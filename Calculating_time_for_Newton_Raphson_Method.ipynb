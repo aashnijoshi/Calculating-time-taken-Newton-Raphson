{
  "nbformat": 4,
  "nbformat_minor": 0,
  "metadata": {
    "colab": {
      "name": "Calculating time for Newton Raphson Method.ipynb",
      "provenance": [],
      "authorship_tag": "ABX9TyN0/bcnLgE3gmnGsySLPuBe",
      "include_colab_link": true
    },
    "kernelspec": {
      "name": "python3",
      "display_name": "Python 3"
    },
    "language_info": {
      "name": "python"
    }
  },
  "cells": [
    {
      "cell_type": "markdown",
      "metadata": {
        "id": "view-in-github",
        "colab_type": "text"
      },
      "source": [
        "<a href=\"https://colab.research.google.com/github/aashnijoshi/Calculating-time-taken-for-a-given-program/blob/main/Calculating_time_for_Newton_Raphson_Method.ipynb\" target=\"_parent\"><img src=\"https://colab.research.google.com/assets/colab-badge.svg\" alt=\"Open In Colab\"/></a>"
      ]
    },
    {
      "cell_type": "code",
      "execution_count": 2,
      "metadata": {
        "colab": {
          "base_uri": "https://localhost:8080/"
        },
        "id": "-3Vc1_qU79iA",
        "outputId": "86caaf1d-9c4e-4fa3-b808-9f37aa9eaad4"
      },
      "outputs": [
        {
          "output_type": "stream",
          "name": "stdout",
          "text": [
            "Please enter the function \n",
            "x*x\n",
            "The root was found to be  1.0477063052467335e-14\n",
            "Time taken=  0.017863988876342773\n"
          ]
        }
      ],
      "source": [
        "#Calculating time for Newton Raphson Method\n",
        "\n",
        "\n",
        "from sympy import *\n",
        "import time \n",
        "\n",
        "#Inputting a function from the user\n",
        "print(\"Please enter the function \")\n",
        "funcc=input()\n",
        "t1=time.time()\n",
        "\n",
        "#Evaluating the function\n",
        "def f(x):\n",
        "    return eval(funcc)\n",
        "     \n",
        "#Defining a function that returns the derivative of the function    \n",
        "def derivf(x):\n",
        "     h=0.00000000001\n",
        "     return (f(x+h)-f(x))/h\n",
        "    \n",
        "\n",
        "#Setting the guess value as 2\n",
        "x=2\n",
        "\n",
        "for i in range (1,1000):              #Letting the program run for not more than 1000 times \n",
        "        xnew=x-f(x)/derivf(x)         #Newton Raphson formula\n",
        "        x=xnew\n",
        "\n",
        "#Printing the root        \n",
        "print(\"The root was found to be \",x)  \n",
        "t2=time.time()\n",
        "print(\"Time taken= \",t2-t1)  \n",
        "    \n",
        "\n",
        "    \n",
        " "
      ]
    }
  ]
}